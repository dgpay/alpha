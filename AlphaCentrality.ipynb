{
  "nbformat": 4,
  "nbformat_minor": 0,
  "metadata": {
    "colab": {
      "name": "AlphaCentrality.ipynb",
      "provenance": [],
      "collapsed_sections": [],
      "machine_shape": "hm",
      "include_colab_link": true
    },
    "kernelspec": {
      "name": "python3",
      "display_name": "Python 3"
    }
  },
  "cells": [
    {
      "cell_type": "markdown",
      "metadata": {
        "id": "view-in-github",
        "colab_type": "text"
      },
      "source": [
        "<a href=\"https://colab.research.google.com/github/dgpay/alpha/blob/master/AlphaCentrality.ipynb\" target=\"_parent\"><img src=\"https://colab.research.google.com/assets/colab-badge.svg\" alt=\"Open In Colab\"/></a>"
      ]
    },
    {
      "cell_type": "code",
      "metadata": {
        "id": "-RBE53n3CXtx",
        "colab_type": "code",
        "colab": {}
      },
      "source": [
        "pip install snap-stanford "
      ],
      "execution_count": 0,
      "outputs": []
    },
    {
      "cell_type": "code",
      "metadata": {
        "id": "z9Codz5MHWTl",
        "colab_type": "code",
        "colab": {}
      },
      "source": [
        "pip install matplotlib"
      ],
      "execution_count": 0,
      "outputs": []
    },
    {
      "cell_type": "code",
      "metadata": {
        "id": "vh6ZN9CqjEL2",
        "colab_type": "code",
        "colab": {}
      },
      "source": [
        "pip install cairocffi"
      ],
      "execution_count": 0,
      "outputs": []
    },
    {
      "cell_type": "code",
      "metadata": {
        "id": "KywYsa8l02y1",
        "colab_type": "code",
        "colab": {}
      },
      "source": [
        "pip install R"
      ],
      "execution_count": 0,
      "outputs": []
    },
    {
      "cell_type": "code",
      "metadata": {
        "id": "uWToTM6Jjs9z",
        "colab_type": "code",
        "colab": {}
      },
      "source": [
        "pip install python-igraph"
      ],
      "execution_count": 0,
      "outputs": []
    },
    {
      "cell_type": "code",
      "metadata": {
        "id": "h5LNPp255vEJ",
        "colab_type": "code",
        "colab": {}
      },
      "source": [
        "from google.colab import drive\n",
        "drive.mount('/content/drive',force_remount=True)"
      ],
      "execution_count": 0,
      "outputs": []
    },
    {
      "cell_type": "code",
      "metadata": {
        "id": "o5MGhu4ttWnH",
        "colab_type": "code",
        "colab": {}
      },
      "source": [
        "pip install pandas\n"
      ],
      "execution_count": 0,
      "outputs": []
    },
    {
      "cell_type": "code",
      "metadata": {
        "id": "t_xXvtDatagc",
        "colab_type": "code",
        "outputId": "d44f05f0-67c6-415b-cbb8-0cb243300588",
        "colab": {
          "base_uri": "https://localhost:8080/",
          "height": 34
        }
      },
      "source": [
        "pip install numpy"
      ],
      "execution_count": 0,
      "outputs": [
        {
          "output_type": "stream",
          "text": [
            "Requirement already satisfied: numpy in /usr/local/lib/python3.6/dist-packages (1.18.3)\n"
          ],
          "name": "stdout"
        }
      ]
    },
    {
      "cell_type": "code",
      "metadata": {
        "id": "l_8Vyml6fIKY",
        "colab_type": "code",
        "colab": {}
      },
      "source": [
        "\n",
        "#note: tiba-tiba ilang lagi codenya :( ada file latihan\n",
        "#link : https://colab.research.google.com/drive/1gD9cBPDXLkJqLK88C1mOvTbN_-8Zo94N\n",
        "import snap\n",
        "import glob\n",
        "# FIn = snap.TFIn(\"test.graph\")\n",
        "# G4 = snap.TNGraph.Load(FIn)\n",
        "# print(G4.GetEdges())\n",
        "# for beb in G4.Nodes():\n",
        "#     print(\"node id %d with out-degree %d and in-degree %d\" % (\n",
        "#         beb.GetId(), beb.GetOutDeg(), beb.GetInDeg()))\n",
        "\n",
        "path = \"/content/drive/My Drive/Colab Notebooks/twitter/twitter/*.edges\"\n",
        "# for fname in glob.glob(path):\n",
        "#     print(fname)\n",
        "G5 = snap.LoadEdgeList(snap.PNGraph, \"/content/drive/My Drive/Colab Notebooks/twitter/twitter/12831.edges\")\n",
        "print(G5.GetEdges())\n",
        "print(G5.GetNodes())\n",
        "\n",
        "CntV = snap.TIntPrV()\n",
        "snap.GetWccSzCnt(G5, CntV)\n",
        "# for p in CntV:\n",
        "#     print(\"size %d: count %d\" % (p.GetVal1(), p.GetVal2()))\n",
        "\n",
        "# for NI in G5.Nodes():\n",
        "#     print(\"node id %d with out-degree %d and in-degree %d\" % (\n",
        "#         NI.GetId(), NI.GetOutDeg(), NI.GetInDeg()))\n",
        "# for EI in G5.Edges():\n",
        "#     print(\"edge (%d, %d)\" % (EI.GetSrcNId(), EI.GetDstNId()))\n",
        "G6 = snap.LoadEdgeList(snap.PNGraph, \"/content/drive/My Drive/Colab Notebooks/twitter/twitter/12831.feat\")\n",
        "\n",
        "i=0\n",
        "for EI in G6.Edges():\n",
        "    print(i,\"edge (%d, %d)\" % (EI.GetSrcNId(), EI.GetDstNId()))\n",
        "    i=i+1\n",
        "for NI in G6.Nodes():\n",
        "    print(\"node id %d with out-degree %d and in-degree %d\" % (\n",
        "        NI.GetId(), NI.GetOutDeg(), NI.GetInDeg()))\n",
        "CntV = snap.TIntPrV()\n",
        "snap.GetWccSzCnt(G5, CntV)\n",
        "for p in CntV:\n",
        "    print(\"size %d: count %d\" % (p.GetVal1(), p.GetVal2()))\n",
        "\n",
        "\n"
      ],
      "execution_count": 0,
      "outputs": []
    },
    {
      "cell_type": "code",
      "metadata": {
        "id": "P_jKXnQg98So",
        "colab_type": "code",
        "colab": {}
      },
      "source": [
        "import snap\n",
        "\n",
        "G5 = snap.LoadEdgeList(snap.PUNGraph, \"/content/drive/My Drive/Colab Notebooks/Bismillah/twitter_combined - Copy.txt\")\n",
        "print(G5.GetEdges())\n",
        "print(G5.GetNodes())\n",
        "\n",
        "# UGraph = snap.GenRndGnm(snap.PUNGraph, 100, 1000)\n",
        "NIdEigenH = snap.TIntFltH()\n",
        "snap.GetEigenVectorCentr(G5, NIdEigenH)\n",
        "for item in NIdEigenH:\n",
        "    print(\"node: %d centrality: %f\" % (item, NIdEigenH[item]))\n",
        "\n",
        "\n",
        "\n"
      ],
      "execution_count": 0,
      "outputs": []
    },
    {
      "cell_type": "code",
      "metadata": {
        "id": "PATSxMcsGFlE",
        "colab_type": "code",
        "colab": {}
      },
      "source": [
        "import networkx as nx\n",
        "import matplotlib.pyplot as plt\n",
        "\n",
        "g=nx.read_edgelist('/content/drive/My Drive/Colab Notebooks/twitter_combined.txt',create_using=nx.Graph(),nodetype=int)\n",
        "print(nx.info(g))\n",
        "sp=nx.spring_layout(g)\n",
        "\n",
        "plt.axis('off')\n",
        "\n",
        "nx.draw_neworkx(g,pos=sp,with_labels=False,node_size=35)\n",
        "\n",
        "# plt.show()\n",
        "A = nx.adjacency_matrix(g)"
      ],
      "execution_count": 0,
      "outputs": []
    },
    {
      "cell_type": "code",
      "metadata": {
        "id": "F5Hq4VfKXaXo",
        "colab_type": "code",
        "colab": {}
      },
      "source": [
        "import networkx as nx\n",
        "import matplotlib.pyplot as plt\n",
        "\n",
        "g=nx.read_edgelist('/content/drive/My Drive/Colab Notebooks/twitter/twitter/100318079.edges',create_using=nx.Graph(),nodetype=int)\n",
        "A = nx.adjacency_matrix(g)"
      ],
      "execution_count": 0,
      "outputs": []
    },
    {
      "cell_type": "code",
      "metadata": {
        "id": "mR4EgNl8jyX9",
        "colab_type": "code",
        "outputId": "0e756442-22eb-424e-9574-d543b1f4a001",
        "colab": {
          "base_uri": "https://localhost:8080/",
          "height": 128
        }
      },
      "source": [
        "import igraph\n",
        "import snap\n",
        "import glob\n",
        "import R\n",
        "library(igraph)\n",
        "\n",
        "g.1 <- graph( c(1,3,2,3,3,4,4,5) )\n",
        "g.2 <- graph( c(2,1,3,1,4,1,5,1) )\n",
        "g.3 <- graph( c(1,2,2,3,3,4,4,1,5,1) )\n",
        "alpha_centrality(g.1)\n",
        "alpha_centrality(g.2)\n",
        "alpha_centrality(g.3,alpha=0.5)\n",
        "\n"
      ],
      "execution_count": 0,
      "outputs": [
        {
          "output_type": "error",
          "ename": "SyntaxError",
          "evalue": "ignored",
          "traceback": [
            "\u001b[0;36m  File \u001b[0;32m\"<ipython-input-5-69bdb99eaead>\"\u001b[0;36m, line \u001b[0;32m7\u001b[0m\n\u001b[0;31m    g.1 <- graph( c(1,3,2,3,3,4,4,5) )\u001b[0m\n\u001b[0m      ^\u001b[0m\n\u001b[0;31mSyntaxError\u001b[0m\u001b[0;31m:\u001b[0m invalid syntax\n"
          ]
        }
      ]
    }
  ]
}